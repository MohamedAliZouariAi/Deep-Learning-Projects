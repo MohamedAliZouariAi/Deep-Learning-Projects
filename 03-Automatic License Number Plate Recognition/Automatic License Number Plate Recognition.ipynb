{
 "cells": [
  {
   "cell_type": "code",
   "execution_count": 13,
   "metadata": {},
   "outputs": [],
   "source": [
    "import numpy as np \n",
    "import cv2\n",
    "from PIL import Image\n",
    "import pytesseract as tess\n",
    "tess.pytesseract.tesseract_cmd = r'c:\\Program Files (x86)\\Tesseract-OCR\\tesseract.exe'"
   ]
  },
  {
   "cell_type": "markdown",
   "metadata": {},
   "source": [
    "* cv2 : opencv library for computer vision and image processing tasks.\n",
    "* PIL : Python Imaging Library (Pillow fork) to handle image files.\n",
    "* pytesseract :  a Python wrapper for the Tesseract OCR engine.\n",
    "* tess.pytesseract.tesseract_cmd : Sets the path to the Tesseract executable file. So it  must specify this if Tesseract isn't in the system's PATH variable. (Windows)"
   ]
  },
  {
   "cell_type": "code",
   "execution_count": 14,
   "metadata": {},
   "outputs": [],
   "source": [
    "def ratioCheck(area, width, height):\n",
    "    ratio = float(width) / float(height)\n",
    "    if ratio < 1:\n",
    "        ratio = 1 / ratio\n",
    "    if (area < 1063.62 or area > 73862.51) or (ratio < 3 or ratio > 6):\n",
    "        return False\n",
    "    return True"
   ]
  },
  {
   "cell_type": "markdown",
   "metadata": {},
   "source": [
    "This function ----> filter shapes or objects based on size and proportions.\n",
    "* Calculates the aspect ratio as width/height (ensures it's always ≥ 1).\n",
    "* Checks the area is within the range [1063.62, 73862.51]\n",
    "* Checks the aspect ratio is within the range [3, 6]."
   ]
  },
  {
   "cell_type": "code",
   "execution_count": 15,
   "metadata": {},
   "outputs": [],
   "source": [
    "def isMaxWhite(plate):\n",
    "    avg = np.mean(plate)\n",
    "    if (avg >= 115):\n",
    "        return True\n",
    "    else:\n",
    "        return False"
   ]
  },
  {
   "cell_type": "markdown",
   "metadata": {},
   "source": [
    "This function ----> ensure the plate has sufficient brightness for further processing or analysis.\n",
    "* Calculates the average pixel intensity of the image plate.\n",
    "* Compares the average intensity to 115"
   ]
  },
  {
   "cell_type": "code",
   "execution_count": 16,
   "metadata": {},
   "outputs": [],
   "source": [
    "def ration_and_rotation(rect):\n",
    "    (x, y), (width, height), rect_angle = rect\n",
    "    if (width > height):\n",
    "        angle = -rect_angle\n",
    "    else:\n",
    "        angle = 90 + rect_angle\n",
    "    if angle > 15:\n",
    "        return False \n",
    "    if height == 0 or width == 0:\n",
    "        return False\n",
    "    area = height * width\n",
    "    if not ratioCheck(area, width, height):\n",
    "        return False \n",
    "    else:\n",
    "        return True "
   ]
  },
  {
   "cell_type": "markdown",
   "metadata": {},
   "source": [
    "This function ----> ensures rectangles conform to specific shape and orientation requirements for further processing.\n",
    "* Unpacks rectangle attributes\n",
    "* Adjusts the angle based on the rectangle's orientation\n",
    "* Checks the angle constraint\n",
    "* Checks for valid dimensions\n",
    "* Calculates area and validates it using the ratioCheck function"
   ]
  },
  {
   "cell_type": "code",
   "execution_count": 17,
   "metadata": {},
   "outputs": [],
   "source": [
    "def clean2_plate(plate):\n",
    "    gray_img = cv2.cvtColor(plate, cv2.COLOR_BGR2GRAY)\n",
    "\n",
    "    _, thresh = cv2.threshold(gray_img, 110, 255, cv2.THRESH_BINARY)\n",
    "    if cv2.waitKey(0) & 0xff == ord('q'):\n",
    "        pass \n",
    "    num_contours, hierarchy = cv2.findContours(thresh.copy(), cv2.RETR_EXTERNAL, cv2.CHAIN_APPROX_NONE)\n",
    "\n",
    "    if num_contours:\n",
    "        contour_area = [cv2.contourArea(c) for c in num_contours]\n",
    "        max_cntr_index = np.argmax(contour_area)\n",
    "\n",
    "        max_cnt = num_contours[max_cntr_index]\n",
    "        max_cntArea = contour_area[max_cntr_index]\n",
    "        x, y, w, h = cv2.boundingRect(max_cnt)\n",
    "\n",
    "        if not ratioCheck(max_cntArea, w, h):\n",
    "            return plate, None \n",
    "    \n",
    "        final_img = thresh[y:y+h, x:x+w]\n",
    "        return final_img, [x, y, w, h]\n",
    "    else:\n",
    "        return plate, None "
   ]
  },
  {
   "cell_type": "markdown",
   "metadata": {},
   "source": [
    "This function ---->  is useful for isolating the most significant object in an the plate, based on contours and shape checks.\n",
    "* Convert to grayscale\n",
    "* Thresholding\n",
    "* Wait for key press\n",
    "* Find contours\n",
    "* Identify the largest contour\n",
    "* Check aspect ratio and area\n",
    "* Extract the region of interest (ROI)  \n",
    "  Returns the cropped image (final_img) along with its bounding box coordinates\n",
    "  "
   ]
  },
  {
   "cell_type": "code",
   "execution_count": 18,
   "metadata": {},
   "outputs": [
    {
     "name": "stdout",
     "output_type": "stream",
     "text": [
      "Number input image ...\n",
      "Number identified number plate ...\n",
      "Number Detected Plate Text :  ‘PL8 REC\n",
      "\n",
      "\n",
      "Number identified number plate ...\n",
      "Number identified number plate ...\n"
     ]
    }
   ],
   "source": [
    "img = cv2.imread(\"testData/sample1.jpg\")\n",
    "print('Number input image ...')\n",
    "cv2.imshow(\"input \", img)\n",
    "\n",
    "if cv2.waitKey(0) & 0xff == ord('q'):\n",
    "    cv2.destroyAllWindows()  # Close the image window\n",
    "\n",
    "img2 = cv2.GaussianBlur(img, (3, 3), 0)\n",
    "img2 = cv2.cvtColor(img2, cv2.COLOR_BGR2GRAY)\n",
    "\n",
    "img2 = cv2.Sobel(img2, cv2.CV_8U, 1, 0, ksize=3)\n",
    "_, img2 = cv2.threshold(img2, 0, 255, cv2.THRESH_BINARY + cv2.THRESH_OTSU)\n",
    "\n",
    "element = cv2.getStructuringElement(shape=cv2.MORPH_RECT, ksize=(17, 3))\n",
    "morph_img_threshold = img2.copy()\n",
    "cv2.morphologyEx(src=img2, op=cv2.MORPH_CLOSE, kernel=element, dst=morph_img_threshold)\n",
    "num_contours, hierarchy = cv2.findContours(morph_img_threshold, mode=cv2.RETR_EXTERNAL, method=cv2.CHAIN_APPROX_NONE)\n",
    "cv2.drawContours(img2, num_contours, -1, (0, 255, 0), 1)\n",
    "\n",
    "for i, cnt in enumerate(num_contours):\n",
    "    min_rect = cv2.minAreaRect(cnt)\n",
    "\n",
    "    if ration_and_rotation(min_rect):\n",
    "        x, y, w, h = cv2.boundingRect(cnt)\n",
    "        plate_img = img[y:y + h, x:x + w]\n",
    "        print('Number identified number plate ...')\n",
    "        cv2.imshow('num plate image', plate_img)\n",
    "        if cv2.waitKey(0) & 0xff == ord('q'):\n",
    "            cv2.destroyAllWindows()  # Close the image window\n",
    "        if isMaxWhite(plate_img):\n",
    "            clean_plate, rect = clean2_plate(plate_img)\n",
    "            if rect:\n",
    "                x1, y1, w1, h1 = rect\n",
    "                x, y, w, h = x + x1, y + y1, w1, h1\n",
    "                plate_im = Image.fromarray(clean_plate)\n",
    "                text = tess.image_to_string(plate_im, lang='eng')\n",
    "                print('Number Detected Plate Text : ', text)\n"
   ]
  },
  {
   "cell_type": "markdown",
   "metadata": {},
   "source": [
    "--> Extracts the license plate from an image and uses Tesseract to read the text on the plate.  \n",
    "* Read and display the input image  \n",
    "* Image preprocessing:  \n",
    "-) Gaussian Blur : to smooth the image  \n",
    "-) Convert to Grayscale  \n",
    "-) Sobel Edge Detection : detects edges in the horizontal direction   \n",
    "-) Thresholding : Otsu's binarization to separate the foreground and background.  \n",
    "* Morphological operation (Closing)  \n",
    "-)  creates a rectangular structuring element for morphological operations.  \n",
    "-) performs a morphological closing operation to fill small gaps in the binary image.  \n",
    "* Contour detection  \n",
    "-) finds the contours in the thresholded image.  \n",
    "-)  draws the contours on the image.  \n",
    "* Process each contour:  \n",
    "-) For each contour, it calculates the minimum bounding rectangle using cv2.minAreaRect(cnt).  \n",
    "-) Aspect ratio and rotation check  \n",
    "-) filters out invalid rectangles based on the aspect ratio and rotation angle.  \n",
    "-) Extract the plate region: :  If the contour passes the checks, cv2.boundingRect(cnt) is used to get the bounding box coordinates and extract the plate image from img.  \n",
    "* Display the extracted plate  \n",
    "-) Waits for the user to press 'q' to close the window.  \n",
    "* Check if the plate is sufficiently white:  \n",
    "-) isMaxWhite(plate_img) checks if the plate image has a high average brightness (suggesting it is a valid plate).  \n",
    "-) Clean the plate: clean_plate, rect = clean2_plate(plate_img) processes the plate further to remove noise or irrelevant regions.  \n",
    "* Extract text from the cleaned plate:  \n",
    "-) If a valid rectangle (rect) is found, the text is extracted using Tesseract OCR:  \n"
   ]
  }
 ],
 "metadata": {
  "kernelspec": {
   "display_name": "base",
   "language": "python",
   "name": "python3"
  },
  "language_info": {
   "codemirror_mode": {
    "name": "ipython",
    "version": 3
   },
   "file_extension": ".py",
   "mimetype": "text/x-python",
   "name": "python",
   "nbconvert_exporter": "python",
   "pygments_lexer": "ipython3",
   "version": "3.12.7"
  }
 },
 "nbformat": 4,
 "nbformat_minor": 2
}
